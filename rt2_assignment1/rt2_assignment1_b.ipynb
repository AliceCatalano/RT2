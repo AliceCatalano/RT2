{
 "cells": [
  {
   "cell_type": "code",
   "execution_count": 1,
   "id": "456261c8",
   "metadata": {
    "ExecuteTime": {
     "end_time": "2022-05-27T10:32:12.934717Z",
     "start_time": "2022-05-27T10:32:06.889730Z"
    }
   },
   "outputs": [],
   "source": [
    "%matplotlib widget\n",
    "%matplotlib widget\n",
    "\n",
    "import ipywidgets as widgets\n",
    "from IPython.display import clear_output\n",
    "\n",
    "import jupyros as jr\n",
    "import rospy\n",
    "\n",
    "from std_msgs.msg import String\n",
    "from assignment_three.srv import Directions\n",
    "\n",
    "from IPython.display import display\n",
    "\n",
    "from geometry_msgs.msg import Twist, Vector3 \n",
    "\n",
    "from jupyros import ros3d\n",
    "import os\n",
    "\n",
    "from ipywidgets import Button, Layout, ButtonStyle, GridBox, VBox, HBox\n",
    "from ipywidgets import interact, interactive\n",
    "import matplotlib.pyplot as plt\n",
    "import tf\n",
    "from nav_msgs.msg import Odometry\n",
    "from sensor_msgs.msg import LaserScan\n",
    "from tf.transformations import quaternion_matrix\n",
    "import numpy as np\n",
    "from matplotlib.animation import FuncAnimation\n",
    "from std_msgs.msg import Int32\n",
    "\n",
    "reached_points = []"
   ]
  },
  {
   "cell_type": "code",
   "execution_count": 2,
   "id": "b10b5c1c",
   "metadata": {
    "ExecuteTime": {
     "end_time": "2022-05-27T10:32:12.968048Z",
     "start_time": "2022-05-27T10:32:12.939275Z"
    }
   },
   "outputs": [],
   "source": [
    "def set_velocity(direction):\n",
    "    \n",
    "    init = Vector3(0, 0, 0)\n",
    "    repost = Twist( init, init)\n",
    "    \n",
    "    #different velocities for different input\n",
    "    if direction =='w':\n",
    "        repost.linear.x = velocity.value\n",
    "    \n",
    "    elif direction == 's':\n",
    "        repost.linear.x = -velocity.value\n",
    "    \n",
    "    elif direction == 'd':\n",
    "        repost.angular.z = -velocity.value\n",
    "    \n",
    "    elif direction == 'a':\n",
    "        repost.angular.z = velocity.value\n",
    "    \n",
    "    #initialize the publisher to pubblic on topic remap_cmd_vel \n",
    "    pub = rospy.Publisher('remap_cmd_vel',Twist, queue_size=10)\n",
    "    pub.publish(repost)"
   ]
  },
  {
   "cell_type": "code",
   "execution_count": 3,
   "id": "69d819e5",
   "metadata": {
    "ExecuteTime": {
     "end_time": "2022-05-27T10:32:13.067233Z",
     "start_time": "2022-05-27T10:32:13.036512Z"
    }
   },
   "outputs": [],
   "source": [
    "def driving_console():\n",
    "    #interface to drive the robot with buttons\n",
    "    display(driving_comm)\n",
    "    display(check)\n",
    "    display(bcanc)\n",
    "    \n",
    "    up.on_click(on_button_clicked_w)\n",
    "    down.on_click(on_button_clicked_s)\n",
    "    left.on_click(on_button_clicked_a)\n",
    "    right.on_click(on_button_clicked_d)\n",
    "   \n",
    "    check.observe(check_handler, names='value')\n",
    "    bcanc.on_click(on_button_clicked_canc)\n",
    "    #display the ros3d map\n",
    "    display_map()"
   ]
  },
  {
   "cell_type": "code",
   "execution_count": 4,
   "id": "cd2912f6",
   "metadata": {
    "ExecuteTime": {
     "end_time": "2022-05-27T10:32:13.118954Z",
     "start_time": "2022-05-27T10:32:13.089178Z"
    }
   },
   "outputs": [],
   "source": [
    "def menu_choice(choice):\n",
    "    #callback for events on the modality choice menu\n",
    "    if choice=='mode1':\n",
    "        display(coo_x, coo_y, bstart, bcanc)\n",
    "        bstart.on_click(on_button_clicked_start)\n",
    "        bcanc.on_click(on_button_clicked_canc)\n",
    "    else:\n",
    "        display(velocity)\n",
    "        driving_console()"
   ]
  },
  {
   "cell_type": "code",
   "execution_count": 5,
   "id": "40f24782",
   "metadata": {
    "ExecuteTime": {
     "end_time": "2022-05-27T10:32:13.198149Z",
     "start_time": "2022-05-27T10:32:13.128758Z"
    }
   },
   "outputs": [],
   "source": [
    "def display_map():\n",
    "    #display a live map of the working enviroment of the robot\n",
    "    \n",
    "    v = ros3d.Viewer()\n",
    "    rc = ros3d.ROSConnection(url=\"ws://localhost:9090\")\n",
    "    tf_client = ros3d.TFClient(ros=rc, fixed_frame='map')\n",
    "\n",
    "    laser_view = ros3d.LaserScan(topic=\"/scan\", ros=rc, tf_client=tf_client)\n",
    "    map_view = ros3d.OccupancyGrid(topic=\"/map\", ros=rc, tf_client=tf_client, continuous=True)\n",
    "    path = ros3d.Path(topic=\"/move_base/NavfnROS/plan\", ros=rc,\n",
    "    tf_client=tf_client)\n",
    "    urdf = ros3d.URDFModel(ros=rc, tf_client=tf_client,\n",
    "    path=os.environ.get('JUPYROS_ASSETS_URL', 'http://localhost:3000'))\n",
    "    g = ros3d.GridModel()\n",
    "\n",
    "    v.objects = [laser_view, map_view, urdf]\n",
    "\n",
    "    display(v)"
   ]
  },
  {
   "cell_type": "code",
   "execution_count": 6,
   "id": "b84d2067",
   "metadata": {
    "ExecuteTime": {
     "end_time": "2022-05-27T10:32:13.266687Z",
     "start_time": "2022-05-27T10:32:13.220768Z"
    }
   },
   "outputs": [],
   "source": [
    "#callback functions for the events\n",
    "\n",
    "def menu_handler(b):\n",
    "    menu_choice(menu.value)\n",
    "\n",
    "#back to menu button\n",
    "def on_button_clicked_canc(b):\n",
    "    clear_output()\n",
    "\n",
    "#modify the value of the ROS parameter for obstacle avoidance control\n",
    "def check_handler(b):\n",
    "    rospy.set_param(\"/obstacle_avoidance\", check.value)\n",
    "    \n",
    "#service call to set the new position to reach       \n",
    "def on_button_clicked_start(b):\n",
    "    with output:\n",
    "        rospy.wait_for_service('directions')\n",
    "        new_pose = rospy.ServiceProxy('directions', Directions)\n",
    "        rt = new_pose(coo_x.value , coo_y.value)\n",
    "        if rt.return_ == 1:\n",
    "            print(\"new position reached!\")\n",
    "            reached_points.append('reached')\n",
    "        else:\n",
    "            print(\"time out\")\n",
    "            reached_points.append('not reached')\n",
    "        display(bcanc)\n",
    "        bcanc.on_click(on_button_clicked_canc)\n",
    "         \n",
    "#handle all the different console buttons and call the function to set the velocity \n",
    "def on_button_clicked_w(b):\n",
    "    set_velocity('w')\n",
    "def on_button_clicked_s(b):\n",
    "    set_velocity('s')\n",
    "def on_button_clicked_a(b):\n",
    "    set_velocity('a')\n",
    "def on_button_clicked_d(b):\n",
    "    set_velocity('d')\n"
   ]
  },
  {
   "cell_type": "code",
   "execution_count": 7,
   "id": "42596b08",
   "metadata": {
    "ExecuteTime": {
     "end_time": "2022-05-27T10:32:19.484862Z",
     "start_time": "2022-05-27T10:32:13.271664Z"
    },
    "scrolled": false
   },
   "outputs": [
    {
     "data": {
      "application/vnd.jupyter.widget-view+json": {
       "model_id": "cf784eb1fddf44e6ab7b028ba2f2beb8",
       "version_major": 2,
       "version_minor": 0
      },
      "text/plain": [
       "Textarea(value='Hello User! please select between the different modalities:')"
      ]
     },
     "metadata": {},
     "output_type": "display_data"
    },
    {
     "data": {
      "application/vnd.jupyter.widget-view+json": {
       "model_id": "6b91f03658744ff69e47601f28ea5d02",
       "version_major": 2,
       "version_minor": 0
      },
      "text/plain": [
       "RadioButtons(description='driving:', options=('mode1', 'mode2'), value=None)"
      ]
     },
     "metadata": {},
     "output_type": "display_data"
    },
    {
     "data": {
      "application/vnd.jupyter.widget-view+json": {
       "model_id": "728b146a4d734f2280707c9f3f5066f8",
       "version_major": 2,
       "version_minor": 0
      },
      "text/plain": [
       "Output()"
      ]
     },
     "metadata": {},
     "output_type": "display_data"
    },
    {
     "data": {
      "application/vnd.jupyter.widget-view+json": {
       "model_id": "58b5520b26e24dfab97420e0d0ea397c",
       "version_major": 2,
       "version_minor": 0
      },
      "text/plain": [
       "Canvas(toolbar=Toolbar(toolitems=[('Home', 'Reset original view', 'home', 'home'), ('Back', 'Back to previous …"
      ]
     },
     "metadata": {},
     "output_type": "display_data"
    },
    {
     "data": {
      "application/vnd.jupyter.widget-view+json": {
       "model_id": "a4f923c8e7db460382eac99ff09fb05c",
       "version_major": 2,
       "version_minor": 0
      },
      "text/plain": [
       "Canvas(toolbar=Toolbar(toolitems=[('Home', 'Reset original view', 'home', 'home'), ('Back', 'Back to previous …"
      ]
     },
     "metadata": {},
     "output_type": "display_data"
    },
    {
     "data": {
      "application/vnd.jupyter.widget-view+json": {
       "model_id": "dd04c669c6ff49bf8811f791a3827685",
       "version_major": 2,
       "version_minor": 0
      },
      "text/plain": [
       "Canvas(toolbar=Toolbar(toolitems=[('Home', 'Reset original view', 'home', 'home'), ('Back', 'Back to previous …"
      ]
     },
     "metadata": {},
     "output_type": "display_data"
    },
    {
     "data": {
      "application/vnd.jupyter.widget-view+json": {
       "model_id": "57bca7a7cde5473c84fb1fb83a0e5f78",
       "version_major": 2,
       "version_minor": 0
      },
      "text/plain": [
       "FloatText(value=0.0, description='x coordinate: ')"
      ]
     },
     "metadata": {},
     "output_type": "display_data"
    },
    {
     "data": {
      "application/vnd.jupyter.widget-view+json": {
       "model_id": "14fa63a84c664a929d14d274802abbe5",
       "version_major": 2,
       "version_minor": 0
      },
      "text/plain": [
       "FloatText(value=0.0, description='y coordinate: ')"
      ]
     },
     "metadata": {},
     "output_type": "display_data"
    },
    {
     "data": {
      "application/vnd.jupyter.widget-view+json": {
       "model_id": "36d1d7f932aa48d2b1a0bc0e0f75a8fd",
       "version_major": 2,
       "version_minor": 0
      },
      "text/plain": [
       "Button(description='start moving', style=ButtonStyle())"
      ]
     },
     "metadata": {},
     "output_type": "display_data"
    },
    {
     "data": {
      "application/vnd.jupyter.widget-view+json": {
       "model_id": "2ba5007d2e15457c866568f31f6326e2",
       "version_major": 2,
       "version_minor": 0
      },
      "text/plain": [
       "Button(description='back to menu', style=ButtonStyle())"
      ]
     },
     "metadata": {},
     "output_type": "display_data"
    }
   ],
   "source": [
    "class Visualiser:\n",
    "    def __init__(self, limit_on_x, fig_title):\n",
    "        self.fig, self.ax = plt.subplots()\n",
    "        self.ln, = plt.plot([], [], 'bo')\n",
    "        self.x_data, self.y_data = [] , []\n",
    "        self.x_limits=limit_on_x\n",
    "        self.ax.set_title(fig_title)\n",
    "        \n",
    "    def plot_init(self):\n",
    "        self.ax.set_xlim(-self.x_limits, self.x_limits)\n",
    "        self.ax.set_ylim(-10, 10)\n",
    "        return self.ln\n",
    "    \n",
    "    def odom_clbk(self, msg):\n",
    "        self.y_data.append(msg.pose.pose.position.y) #try the append on the scanner\n",
    "        self.x_data.append(msg.pose.pose.position.x)\n",
    "       \n",
    "    def laser_clbk(self, msg):\n",
    "        self.x_data = msg.ranges\n",
    "        self.y_data = msg.intensities        \n",
    "   \n",
    "    def refresh_plot(self, frame):\n",
    "        self.ln.set_data(self.x_data, self.y_data)\n",
    "        return self.ln\n",
    "    \n",
    "class Analysis:\n",
    "    def __init__(self):\n",
    "        self.fig, self.ax = plt.subplots()\n",
    "        self.y_data = [0.05,0.05] \n",
    "        self.labels = ['reached', 'failed'] \n",
    "        self.bar = self.ax.bar(self.labels, self.y_data, color = 'b', width = 0.3)\n",
    "        self.ax.set_ylim(top = 10)\n",
    "        self.ax.set_title('classification of positions reaching')\n",
    "    \n",
    "    def objective_clbk(self, msg):\n",
    "        if msg.data == 1:\n",
    "            self.y_data[0]+=1\n",
    "        else :\n",
    "            self.y_data[1]+=1\n",
    "            \n",
    "    def animate(self, frame):\n",
    "        index = self.y_data[frame]\n",
    "        self.bar[frame].set_height(index)\n",
    "\n",
    "\n",
    "rospy.init_node('user_interface')\n",
    "\n",
    "intro= widgets.Textarea(value='Hello User! please select between the different modalities:',disabled=False)\n",
    "\n",
    "#create starting menu interface\n",
    "menu= widgets.RadioButtons(options=['mode1', 'mode2'],value= None, description='driving:', disabled=False)\n",
    "bstart= widgets.Button(description=\"start moving\")\n",
    "bcanc = widgets.Button(description=\"back to menu\")\n",
    "\n",
    "#boxes for entering the coordinate of the taget to reach\n",
    "coo_x = widgets.FloatText(description=\"x coordinate: \")\n",
    "coo_y = widgets.FloatText(description=\"y coordinate: \")\n",
    "\n",
    "velocity=widgets.FloatSlider(min=0, max=3, step=0.1, value=1, description='Robot speed:');\n",
    "\n",
    "#listener for driving choice\n",
    "menu.observe(menu_handler, names='value')\n",
    "\n",
    "#console buttons\n",
    "up = Button(description='UP', layout=Layout(grid_area='b1'))\n",
    "left = Button(description='LEFT', layout=Layout(grid_area='b2'))\n",
    "right = Button(description='RIGHT', layout=Layout( grid_area='b3'))\n",
    "down = Button(description='DOWN', layout=Layout(grid_area='b4'))\n",
    "\n",
    "HBox([VBox([right, down]),VBox([up, left])])\n",
    "\n",
    "driving_comm=GridBox(children=[up, left, right, down],layout=Layout(width='50%', grid_template_rows='auto auto',\n",
    "    grid_template_columns='33% 33% 33% 33%',\n",
    "    grid_template_areas='''\n",
    "    \" . b1 . \"\n",
    "    \"b2 . b3 \"\n",
    "    \" . b4 . \"\n",
    "    ''')\n",
    ")\n",
    "\n",
    "#checkbox widget for activate/deactivate the collision avoidance option during the manual navigation of the robot\n",
    "check = widgets.Checkbox(value = False, description='active collision avoidance')\n",
    "\n",
    "#create an output cell\n",
    "output = widgets.Output()\n",
    "\n",
    "#display both button and output cell display main menu of the GUI\n",
    "display(intro, menu, output)\n",
    "\n",
    "vis_odom = Visualiser(10, 'Position of the robot')\n",
    "sub_odom = rospy.Subscriber('/odom', Odometry, vis_odom.odom_clbk)\n",
    "ani1 = FuncAnimation(vis_odom.fig, vis_odom.refresh_plot, init_func=vis_odom.plot_init)\n",
    "plt.show(block=True)\n",
    "\n",
    "vis_scan = Visualiser(100, 'Laser scan measurements')\n",
    "sub_scan = rospy.Subscriber('/scan', LaserScan, vis_scan.laser_clbk)\n",
    "ani2 = FuncAnimation(vis_scan.fig, vis_scan.refresh_plot, init_func=vis_scan.plot_init)\n",
    "plt.show(block=True)\n",
    "\n",
    "analysis= Analysis()\n",
    "sub_success = rospy.Subscriber('/goal_reached', Int32, analysis.objective_clbk)\n",
    "ani3 = FuncAnimation(analysis.fig, analysis.animate, frames=2)\n",
    "plt.show(block=True)"
   ]
  },
  {
   "cell_type": "code",
   "execution_count": null,
   "id": "a5acf44f",
   "metadata": {
    "ExecuteTime": {
     "end_time": "2022-05-21T16:12:05.909089Z",
     "start_time": "2022-05-21T16:12:05.490479Z"
    }
   },
   "outputs": [],
   "source": [
    "\n"
   ]
  },
  {
   "cell_type": "code",
   "execution_count": null,
   "id": "4a183ebd",
   "metadata": {},
   "outputs": [],
   "source": []
  }
 ],
 "metadata": {
  "hide_input": false,
  "kernelspec": {
   "display_name": "Python 3 (ipykernel)",
   "language": "python",
   "name": "python3"
  },
  "language_info": {
   "codemirror_mode": {
    "name": "ipython",
    "version": 3
   },
   "file_extension": ".py",
   "mimetype": "text/x-python",
   "name": "python",
   "nbconvert_exporter": "python",
   "pygments_lexer": "ipython3",
   "version": "3.8.5"
  },
  "toc": {
   "base_numbering": 1,
   "nav_menu": {},
   "number_sections": true,
   "sideBar": true,
   "skip_h1_title": false,
   "title_cell": "Table of Contents",
   "title_sidebar": "Contents",
   "toc_cell": false,
   "toc_position": {},
   "toc_section_display": true,
   "toc_window_display": false
  },
  "varInspector": {
   "cols": {
    "lenName": 16,
    "lenType": 16,
    "lenVar": 40
   },
   "kernels_config": {
    "python": {
     "delete_cmd_postfix": "",
     "delete_cmd_prefix": "del ",
     "library": "var_list.py",
     "varRefreshCmd": "print(var_dic_list())"
    },
    "r": {
     "delete_cmd_postfix": ") ",
     "delete_cmd_prefix": "rm(",
     "library": "var_list.r",
     "varRefreshCmd": "cat(var_dic_list()) "
    }
   },
   "types_to_exclude": [
    "module",
    "function",
    "builtin_function_or_method",
    "instance",
    "_Feature"
   ],
   "window_display": false
  }
 },
 "nbformat": 4,
 "nbformat_minor": 5
}
